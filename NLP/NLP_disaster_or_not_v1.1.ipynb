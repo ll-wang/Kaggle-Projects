{
 "cells": [
  {
   "cell_type": "markdown",
   "metadata": {},
   "source": [
    "## Unstructured data (or unstructured information) is information that either does not have a pre-defined data model or is not organized in a pre-defined manner. Unstructured information is typically text-heavy, but may contain data such as dates, numbers, and facts as well.\n",
    "\n",
    "##                                                                              — Wikipedia description of unstructured data."
   ]
  },
  {
   "cell_type": "code",
   "execution_count": 5,
   "metadata": {},
   "outputs": [],
   "source": [
    "#Import useful libs\n",
    "\n",
    "import numpy as np\n",
    "import pandas as pd\n",
    "import seaborn as sns\n",
    "import matplotlib.pyplot as plt\n",
    "%matplotlib inline"
   ]
  },
  {
   "cell_type": "code",
   "execution_count": 6,
   "metadata": {
    "collapsed": true
   },
   "outputs": [],
   "source": [
    "#Read in train and test data\n",
    "train = pd.read_csv('train.csv')\n",
    "test = pd.read_csv('test.csv')"
   ]
  },
  {
   "cell_type": "code",
   "execution_count": 7,
   "metadata": {},
   "outputs": [
    {
     "data": {
      "text/html": [
       "<div>\n",
       "<style>\n",
       "    .dataframe thead tr:only-child th {\n",
       "        text-align: right;\n",
       "    }\n",
       "\n",
       "    .dataframe thead th {\n",
       "        text-align: left;\n",
       "    }\n",
       "\n",
       "    .dataframe tbody tr th {\n",
       "        vertical-align: top;\n",
       "    }\n",
       "</style>\n",
       "<table border=\"1\" class=\"dataframe\">\n",
       "  <thead>\n",
       "    <tr style=\"text-align: right;\">\n",
       "      <th></th>\n",
       "      <th>id</th>\n",
       "      <th>keyword</th>\n",
       "      <th>location</th>\n",
       "      <th>text</th>\n",
       "      <th>target</th>\n",
       "    </tr>\n",
       "  </thead>\n",
       "  <tbody>\n",
       "    <tr>\n",
       "      <th>0</th>\n",
       "      <td>1</td>\n",
       "      <td>NaN</td>\n",
       "      <td>NaN</td>\n",
       "      <td>Our Deeds are the Reason of this #earthquake M...</td>\n",
       "      <td>1</td>\n",
       "    </tr>\n",
       "    <tr>\n",
       "      <th>1</th>\n",
       "      <td>4</td>\n",
       "      <td>NaN</td>\n",
       "      <td>NaN</td>\n",
       "      <td>Forest fire near La Ronge Sask. Canada</td>\n",
       "      <td>1</td>\n",
       "    </tr>\n",
       "    <tr>\n",
       "      <th>2</th>\n",
       "      <td>5</td>\n",
       "      <td>NaN</td>\n",
       "      <td>NaN</td>\n",
       "      <td>All residents asked to 'shelter in place' are ...</td>\n",
       "      <td>1</td>\n",
       "    </tr>\n",
       "    <tr>\n",
       "      <th>3</th>\n",
       "      <td>6</td>\n",
       "      <td>NaN</td>\n",
       "      <td>NaN</td>\n",
       "      <td>13,000 people receive #wildfires evacuation or...</td>\n",
       "      <td>1</td>\n",
       "    </tr>\n",
       "    <tr>\n",
       "      <th>4</th>\n",
       "      <td>7</td>\n",
       "      <td>NaN</td>\n",
       "      <td>NaN</td>\n",
       "      <td>Just got sent this photo from Ruby #Alaska as ...</td>\n",
       "      <td>1</td>\n",
       "    </tr>\n",
       "  </tbody>\n",
       "</table>\n",
       "</div>"
      ],
      "text/plain": [
       "   id keyword location                                               text  \\\n",
       "0   1     NaN      NaN  Our Deeds are the Reason of this #earthquake M...   \n",
       "1   4     NaN      NaN             Forest fire near La Ronge Sask. Canada   \n",
       "2   5     NaN      NaN  All residents asked to 'shelter in place' are ...   \n",
       "3   6     NaN      NaN  13,000 people receive #wildfires evacuation or...   \n",
       "4   7     NaN      NaN  Just got sent this photo from Ruby #Alaska as ...   \n",
       "\n",
       "   target  \n",
       "0       1  \n",
       "1       1  \n",
       "2       1  \n",
       "3       1  \n",
       "4       1  "
      ]
     },
     "execution_count": 7,
     "metadata": {},
     "output_type": "execute_result"
    }
   ],
   "source": [
    "train.head()"
   ]
  },
  {
   "cell_type": "code",
   "execution_count": 28,
   "metadata": {},
   "outputs": [
    {
     "name": "stdout",
     "output_type": "stream",
     "text": [
      "General information of Training data \n",
      "\n",
      "<class 'pandas.core.frame.DataFrame'>\n",
      "RangeIndex: 7613 entries, 0 to 7612\n",
      "Data columns (total 5 columns):\n",
      "id          7613 non-null int64\n",
      "keyword     7552 non-null object\n",
      "location    5080 non-null object\n",
      "text        7613 non-null object\n",
      "target      7613 non-null int64\n",
      "dtypes: int64(2), object(3)\n",
      "memory usage: 297.5+ KB\n",
      "None\n",
      "\n",
      "\n",
      "General information of Test data \n",
      "\n",
      "<class 'pandas.core.frame.DataFrame'>\n",
      "RangeIndex: 3263 entries, 0 to 3262\n",
      "Data columns (total 4 columns):\n",
      "id          3263 non-null int64\n",
      "keyword     3237 non-null object\n",
      "location    2158 non-null object\n",
      "text        3263 non-null object\n",
      "dtypes: int64(1), object(3)\n",
      "memory usage: 102.0+ KB\n",
      "None\n"
     ]
    }
   ],
   "source": [
    "print('General information of Training data \\n')\n",
    "print(train.info())\n",
    "print('\\n')\n",
    "print('General information of Test data \\n')\n",
    "print(test.info())\n"
   ]
  },
  {
   "cell_type": "markdown",
   "metadata": {},
   "source": [
    "# Note:\n",
    "\n",
    "## 1. The \"id\" variable is not consecutive\n",
    "## 2. The \"location\" varaibles have a lot of missing values\n",
    "\n",
    "\n",
    "# Data description:\n",
    "\n",
    "## 1. \"id\": a unique identifier for each tweet\n",
    "\n",
    "## 2. \"keyword\": a particular keyword from the tweet (may be blank)\n",
    "\n",
    "## 3. \"location\": the location the tweet was sent from (may be blank)\n",
    "\n",
    "## 4. \"target\": in train.csv only, this denotes whether a tweet is about a real disaster (1) or not (0)"
   ]
  },
  {
   "cell_type": "markdown",
   "metadata": {},
   "source": [
    "# Step1: EDA"
   ]
  },
  {
   "cell_type": "code",
   "execution_count": 27,
   "metadata": {},
   "outputs": [
    {
     "name": "stdout",
     "output_type": "stream",
     "text": [
      "General information of Training data \n",
      "\n",
      "                 id      target\n",
      "count   7613.000000  7613.00000\n",
      "mean    5441.934848     0.42966\n",
      "std     3137.116090     0.49506\n",
      "min        1.000000     0.00000\n",
      "25%     2734.000000     0.00000\n",
      "50%     5408.000000     0.00000\n",
      "75%     8146.000000     1.00000\n",
      "max    10873.000000     1.00000\n",
      "\n",
      "\n",
      "General information of Test data \n",
      "\n",
      "                 id\n",
      "count   3263.000000\n",
      "mean    5427.152927\n",
      "std     3146.427221\n",
      "min        0.000000\n",
      "25%     2683.000000\n",
      "50%     5500.000000\n",
      "75%     8176.000000\n",
      "max    10875.000000\n"
     ]
    }
   ],
   "source": [
    "print('General information of Training data \\n')\n",
    "print(train.describe())\n",
    "print('\\n')\n",
    "\n",
    "print('General information of Test data \\n')\n",
    "print(test.describe())"
   ]
  },
  {
   "cell_type": "code",
   "execution_count": 12,
   "metadata": {},
   "outputs": [
    {
     "ename": "NameError",
     "evalue": "name 'pandas_profiling' is not defined",
     "output_type": "error",
     "traceback": [
      "\u001b[1;31m---------------------------------------------------------------------------\u001b[0m",
      "\u001b[1;31mNameError\u001b[0m                                 Traceback (most recent call last)",
      "\u001b[1;32m<ipython-input-12-b706380c86f9>\u001b[0m in \u001b[0;36m<module>\u001b[1;34m()\u001b[0m\n\u001b[1;32m----> 1\u001b[1;33m \u001b[0mpandas_profiling\u001b[0m\u001b[1;33m.\u001b[0m\u001b[0mProfileReport\u001b[0m\u001b[1;33m(\u001b[0m\u001b[0mtrain\u001b[0m\u001b[1;33m)\u001b[0m\u001b[1;33m\u001b[0m\u001b[0m\n\u001b[0m",
      "\u001b[1;31mNameError\u001b[0m: name 'pandas_profiling' is not defined"
     ]
    }
   ],
   "source": [
    "pandas_profiling.ProfileReport(train)"
   ]
  },
  {
   "cell_type": "markdown",
   "metadata": {},
   "source": [
    "## 1.1 The \"location\" variable has large number of missing values, however, I think it is an important feature to identify whether the tweets is real, I decided to look at the value_counts of the variable for both train and test data\n",
    "\n",
    "## Purpose:\n",
    "\n",
    "### 1. Check the spread of the location\n",
    "### 2. Check if there's any invalid data for the location\n",
    "### 3. Check whether the test data have the location that train data do not have\n"
   ]
  },
  {
   "cell_type": "code",
   "execution_count": 14,
   "metadata": {},
   "outputs": [
    {
     "data": {
      "text/plain": [
       "USA                               104\n",
       "New York                           71\n",
       "United States                      50\n",
       "London                             45\n",
       "Canada                             29\n",
       "Nigeria                            28\n",
       "UK                                 27\n",
       "Los Angeles, CA                    26\n",
       "India                              24\n",
       "Mumbai                             22\n",
       "Washington, DC                     21\n",
       "Kenya                              20\n",
       "Worldwide                          19\n",
       "Chicago, IL                        18\n",
       "Australia                          18\n",
       "California                         17\n",
       "California, USA                    15\n",
       "New York, NY                       15\n",
       "Everywhere                         15\n",
       "United Kingdom                     14\n",
       "Florida                            14\n",
       "San Francisco                      14\n",
       "Los Angeles                        13\n",
       "Washington, D.C.                   13\n",
       "Indonesia                          13\n",
       "NYC                                12\n",
       "Ireland                            12\n",
       "Toronto                            12\n",
       "San Francisco, CA                  11\n",
       "Chicago                            11\n",
       "                                 ... \n",
       "BIG D  HOUSTON/BOSTON/DENVER        1\n",
       "Le Moyne '16                        1\n",
       "Chapel Hill, NC                     1\n",
       "Selangor                            1\n",
       "Wakefield, West Yorkshire           1\n",
       "Henderson, Nevada                   1\n",
       "taking bath do not disturb          1\n",
       "R'lyeh, South Pacific               1\n",
       "Derry, 17                           1\n",
       "Austin | San Diego                  1\n",
       "The Globe                           1\n",
       "Zeerust, South Africa               1\n",
       "Sochi, KDA, RU                      1\n",
       "Concord, CA                         1\n",
       "Santo Domingo Alma Rosa             1\n",
       "Beautiful British Columbia          1\n",
       "???? ???????                        1\n",
       "Halifax, NS, Canada                 1\n",
       "Dayton, OH                          1\n",
       "home                                1\n",
       "[marvelÛ¢dragon ageÛ¢wicdiv]      1\n",
       "KLA,Uganda                          1\n",
       "Groningen, Netherlands, Europe      1\n",
       "Hawthorne, NE                       1\n",
       "Cedar Island, Clinton CT 06413      1\n",
       "St. Louis, Mo                       1\n",
       "lrhcthband;four - bournemouth       1\n",
       "Savannah, GA                        1\n",
       "Portsmouth, VA                      1\n",
       "Bellevue NE                         1\n",
       "Name: location, Length: 3341, dtype: int64"
      ]
     },
     "execution_count": 14,
     "metadata": {},
     "output_type": "execute_result"
    }
   ],
   "source": [
    "train.location.value_counts()"
   ]
  },
  {
   "cell_type": "code",
   "execution_count": 15,
   "metadata": {},
   "outputs": [
    {
     "data": {
      "text/plain": [
       "New York                         38\n",
       "USA                              37\n",
       "Worldwide                        16\n",
       "United States                    15\n",
       "Canada                           13\n",
       "London                           13\n",
       "Kenya                            12\n",
       "Nigeria                          12\n",
       "United Kingdom                   12\n",
       "Los Angeles                      11\n",
       "India                            11\n",
       "Washington, DC                   10\n",
       "San Francisco, CA                 9\n",
       "San Francisco                     9\n",
       "NYC                               9\n",
       "Philippines                       9\n",
       "California                        8\n",
       "Los Angeles, CA                   8\n",
       "Seattle, WA                       7\n",
       "Australia                         7\n",
       "Florida                           7\n",
       "Singapore                         7\n",
       "New York, NY                      7\n",
       "Chicago                           6\n",
       "Mumbai                            6\n",
       "Melbourne, Australia              6\n",
       "UK                                6\n",
       "California, USA                   6\n",
       "Paterson, New Jersey              5\n",
       "Calgary, Alberta                  5\n",
       "                                 ..\n",
       "Harvard Square, Cambridge, MA     1\n",
       "Italia                            1\n",
       "Pico Rivera, CA                   1\n",
       "The World                         1\n",
       "New york                          1\n",
       "Grand Rapids, Mich.               1\n",
       "Medford, NJ                       1\n",
       "ICO Arkansas                      1\n",
       "Queens, New York                  1\n",
       "hayling                           1\n",
       "The North                         1\n",
       "Rochester Minnesota               1\n",
       "Maryland, USA                     1\n",
       "Albequerque                       1\n",
       "University, FL                    1\n",
       "NY                                1\n",
       "Cape Coral Fl                     1\n",
       "Mo.City                           1\n",
       "Durham, NC                        1\n",
       "3-Jan                             1\n",
       "Twin Falls, Idaho, 83301          1\n",
       "Roermond                          1\n",
       "Lagos, Nigeria.                   1\n",
       "Eldora, IA                        1\n",
       "Utica , New York (Upstate)        1\n",
       "Wheeler,Wis.                      1\n",
       "Moreno City - Buenos Aires        1\n",
       "UK & Oversees                     1\n",
       "Deep in the heart of LibLand      1\n",
       "Mississauga                       1\n",
       "Name: location, Length: 1602, dtype: int64"
      ]
     },
     "execution_count": 15,
     "metadata": {},
     "output_type": "execute_result"
    }
   ],
   "source": [
    "test.location.value_counts()"
   ]
  },
  {
   "cell_type": "code",
   "execution_count": 31,
   "metadata": {},
   "outputs": [
    {
     "data": {
      "text/plain": [
       "False"
      ]
     },
     "execution_count": 31,
     "metadata": {},
     "output_type": "execute_result"
    }
   ],
   "source": [
    "#Compare locations in train and test\n",
    "loc_train = train.location.dropna(axis = 0).values\n",
    "loc_test = test.location.dropna(axis = 0).values\n",
    "\n",
    "x = set(loc_test).issubset(loc_train)\n",
    "x\n"
   ]
  },
  {
   "cell_type": "markdown",
   "metadata": {},
   "source": [
    "## ***Findings after rough check of the \"location\" variable:\n",
    "\n",
    "### 1. For both train and test data, the format of observations were not unified \n",
    "###  e.g., USA and United States are actually same country  ---> should be corrected\n",
    "\n",
    "### 2. For the location, there are belonging relationships; e.g., CA belongs to USA ----> should consider creating another column to indicate. In addition, considering to have consistent unit for location, for example, Country, State, County etc..\n",
    "\n",
    "### 3. There are invalid records; e.g., ??? in training data; 3-Jan in test data\n",
    "\n",
    "### 4. There are locations that in test data do not belong to test data, should figure them out\n",
    "\n",
    "### 5. How to fill missing values?\n"
   ]
  },
  {
   "cell_type": "markdown",
   "metadata": {},
   "source": [
    "## 1.2 About \"keyword\" variable"
   ]
  },
  {
   "cell_type": "markdown",
   "metadata": {},
   "source": [
    "### Some thoughts: \n",
    "\n",
    "### Since there are some missing values for the \"keyword\" variable, how to fill the missing values is critical； I think it might be better to take a look at the nonmissing values and find a rule of how the keywords were extracted from text"
   ]
  },
  {
   "cell_type": "code",
   "execution_count": 34,
   "metadata": {},
   "outputs": [
    {
     "data": {
      "text/plain": [
       "fatalities     45\n",
       "deluge         42\n",
       "armageddon     42\n",
       "sinking        41\n",
       "body%20bags    41\n",
       "harm           41\n",
       "damage         41\n",
       "evacuate       40\n",
       "twister        40\n",
       "collided       40\n",
       "outbreak       40\n",
       "fear           40\n",
       "siren          40\n",
       "windstorm      40\n",
       "whirlwind      39\n",
       "derailment     39\n",
       "wreckage       39\n",
       "famine         39\n",
       "weapon         39\n",
       "weapons        39\n",
       "Name: keyword, dtype: int64"
      ]
     },
     "execution_count": 34,
     "metadata": {},
     "output_type": "execute_result"
    }
   ],
   "source": [
    "#Check the most frequent keywords\n",
    "key_freq = train.keyword.value_counts()[:20]"
   ]
  },
  {
   "cell_type": "code",
   "execution_count": 14,
   "metadata": {},
   "outputs": [
    {
     "data": {
      "image/png": "[encoded data removed]",
      "text/plain": [
       "<matplotlib.figure.Figure at 0x276b7991c88>"
      ]
     },
     "metadata": {},
     "output_type": "display_data"
    }
   ],
   "source": [
    "keyword = train['keyword'].value_counts()[:20]\n",
    "\n",
    "#show the freq of keyword\n",
    "_ = sns.barplot(x = keyword, y = keyword.index)"
   ]
  },
  {
   "cell_type": "code",
   "execution_count": 25,
   "metadata": {},
   "outputs": [
    {
     "data": {
      "text/html": [
       "<div>\n",
       "<style>\n",
       "    .dataframe thead tr:only-child th {\n",
       "        text-align: right;\n",
       "    }\n",
       "\n",
       "    .dataframe thead th {\n",
       "        text-align: left;\n",
       "    }\n",
       "\n",
       "    .dataframe tbody tr th {\n",
       "        vertical-align: top;\n",
       "    }\n",
       "</style>\n",
       "<table border=\"1\" class=\"dataframe\">\n",
       "  <thead>\n",
       "    <tr style=\"text-align: right;\">\n",
       "      <th></th>\n",
       "      <th>Count</th>\n",
       "      <th>Probability</th>\n",
       "    </tr>\n",
       "    <tr>\n",
       "      <th>keyword</th>\n",
       "      <th></th>\n",
       "      <th></th>\n",
       "    </tr>\n",
       "  </thead>\n",
       "  <tbody>\n",
       "    <tr>\n",
       "      <th>wreckage</th>\n",
       "      <td>39</td>\n",
       "      <td>1.000000</td>\n",
       "    </tr>\n",
       "    <tr>\n",
       "      <th>debris</th>\n",
       "      <td>37</td>\n",
       "      <td>1.000000</td>\n",
       "    </tr>\n",
       "    <tr>\n",
       "      <th>derailment</th>\n",
       "      <td>39</td>\n",
       "      <td>1.000000</td>\n",
       "    </tr>\n",
       "    <tr>\n",
       "      <th>outbreak</th>\n",
       "      <td>40</td>\n",
       "      <td>0.975000</td>\n",
       "    </tr>\n",
       "    <tr>\n",
       "      <th>oil%20spill</th>\n",
       "      <td>38</td>\n",
       "      <td>0.973684</td>\n",
       "    </tr>\n",
       "    <tr>\n",
       "      <th>typhoon</th>\n",
       "      <td>38</td>\n",
       "      <td>0.973684</td>\n",
       "    </tr>\n",
       "    <tr>\n",
       "      <th>suicide%20bombing</th>\n",
       "      <td>33</td>\n",
       "      <td>0.969697</td>\n",
       "    </tr>\n",
       "    <tr>\n",
       "      <th>suicide%20bomber</th>\n",
       "      <td>31</td>\n",
       "      <td>0.967742</td>\n",
       "    </tr>\n",
       "    <tr>\n",
       "      <th>bombing</th>\n",
       "      <td>29</td>\n",
       "      <td>0.931034</td>\n",
       "    </tr>\n",
       "    <tr>\n",
       "      <th>suicide%20bomb</th>\n",
       "      <td>35</td>\n",
       "      <td>0.914286</td>\n",
       "    </tr>\n",
       "    <tr>\n",
       "      <th>rescuers</th>\n",
       "      <td>35</td>\n",
       "      <td>0.914286</td>\n",
       "    </tr>\n",
       "    <tr>\n",
       "      <th>nuclear%20disaster</th>\n",
       "      <td>34</td>\n",
       "      <td>0.911765</td>\n",
       "    </tr>\n",
       "    <tr>\n",
       "      <th>evacuated</th>\n",
       "      <td>36</td>\n",
       "      <td>0.888889</td>\n",
       "    </tr>\n",
       "    <tr>\n",
       "      <th>razed</th>\n",
       "      <td>35</td>\n",
       "      <td>0.885714</td>\n",
       "    </tr>\n",
       "    <tr>\n",
       "      <th>wildfire</th>\n",
       "      <td>33</td>\n",
       "      <td>0.878788</td>\n",
       "    </tr>\n",
       "    <tr>\n",
       "      <th>wild%20fires</th>\n",
       "      <td>31</td>\n",
       "      <td>0.870968</td>\n",
       "    </tr>\n",
       "    <tr>\n",
       "      <th>airplane%20accident</th>\n",
       "      <td>35</td>\n",
       "      <td>0.857143</td>\n",
       "    </tr>\n",
       "    <tr>\n",
       "      <th>buildings%20on%20fire</th>\n",
       "      <td>33</td>\n",
       "      <td>0.848485</td>\n",
       "    </tr>\n",
       "    <tr>\n",
       "      <th>mass%20murder</th>\n",
       "      <td>33</td>\n",
       "      <td>0.848485</td>\n",
       "    </tr>\n",
       "    <tr>\n",
       "      <th>forest%20fires</th>\n",
       "      <td>32</td>\n",
       "      <td>0.843750</td>\n",
       "    </tr>\n",
       "  </tbody>\n",
       "</table>\n",
       "</div>"
      ],
      "text/plain": [
       "                       Count  Probability\n",
       "keyword                                  \n",
       "wreckage                  39     1.000000\n",
       "debris                    37     1.000000\n",
       "derailment                39     1.000000\n",
       "outbreak                  40     0.975000\n",
       "oil%20spill               38     0.973684\n",
       "typhoon                   38     0.973684\n",
       "suicide%20bombing         33     0.969697\n",
       "suicide%20bomber          31     0.967742\n",
       "bombing                   29     0.931034\n",
       "suicide%20bomb            35     0.914286\n",
       "rescuers                  35     0.914286\n",
       "nuclear%20disaster        34     0.911765\n",
       "evacuated                 36     0.888889\n",
       "razed                     35     0.885714\n",
       "wildfire                  33     0.878788\n",
       "wild%20fires              31     0.870968\n",
       "airplane%20accident       35     0.857143\n",
       "buildings%20on%20fire     33     0.848485\n",
       "mass%20murder             33     0.848485\n",
       "forest%20fires            32     0.843750"
      ]
     },
     "execution_count": 25,
     "metadata": {},
     "output_type": "execute_result"
    }
   ],
   "source": [
    "#Find the keyword with high probability of predicting a disaster\n",
    "prob = train.groupby('keyword').agg({'text': 'count', 'target': 'mean'}).rename(columns = {'text':'Count', 'target':'Probability'})\n",
    "\n",
    "prob.sort_values(by ='Probability', ascending = False)[:20]\n"
   ]
  },
  {
   "cell_type": "markdown",
   "metadata": {},
   "source": [
    "## Thoughts: Can create a new variable to distinguish keyword with different ranges of probabilities of predicting target\n",
    "\n",
    "## Range proposed: 1, above .9-1, above .7-.9, below .5"
   ]
  },
  {
   "cell_type": "markdown",
   "metadata": {
    "collapsed": true
   },
   "source": [
    "### Thoughts:\n",
    "\n",
    "### 1. Corrrect the location \n",
    "### 1.1. Split it into two columns: city and country\n",
    "### 1.2 Check the distributions of target based on city/country"
   ]
  },
  {
   "cell_type": "code",
   "execution_count": null,
   "metadata": {
    "collapsed": true
   },
   "outputs": [],
   "source": []
  },
  {
   "cell_type": "code",
   "execution_count": null,
   "metadata": {
    "collapsed": true
   },
   "outputs": [],
   "source": []
  },
  {
   "cell_type": "code",
   "execution_count": null,
   "metadata": {
    "collapsed": true
   },
   "outputs": [],
   "source": []
  },
  {
   "cell_type": "code",
   "execution_count": null,
   "metadata": {
    "collapsed": true
   },
   "outputs": [],
   "source": []
  }
 ],
 "metadata": {
  "kernelspec": {
   "display_name": "Python 3",
   "language": "python",
   "name": "python3"
  },
  "language_info": {
   "codemirror_mode": {
    "name": "ipython",
    "version": 3
   },
   "file_extension": ".py",
   "mimetype": "text/x-python",
   "name": "python",
   "nbconvert_exporter": "python",
   "pygments_lexer": "ipython3",
   "version": "3.6.3"
  }
 },
 "nbformat": 4,
 "nbformat_minor": 2
}
