{
 "cells": [
  {
   "cell_type": "markdown",
   "metadata": {},
   "source": [
    "## Unstructured data (or unstructured information) is information that either does not have a pre-defined data model or is not organized in a pre-defined manner. Unstructured information is typically text-heavy, but may contain data such as dates, numbers, and facts as well.\n",
    "\n",
    "##                                                                              — Wikipedia description of unstructured data."
   ]
  },
  {
   "cell_type": "code",
   "execution_count": 13,
   "metadata": {},
   "outputs": [
    {
     "ename": "ModuleNotFoundError",
     "evalue": "No module named 'pandas_profiling'",
     "output_type": "error",
     "traceback": [
      "\u001b[1;31m---------------------------------------------------------------------------\u001b[0m",
      "\u001b[1;31mModuleNotFoundError\u001b[0m                       Traceback (most recent call last)",
      "\u001b[1;32m<ipython-input-13-9640971f807c>\u001b[0m in \u001b[0;36m<module>\u001b[1;34m()\u001b[0m\n\u001b[0;32m      4\u001b[0m \u001b[1;32mimport\u001b[0m \u001b[0mpandas\u001b[0m \u001b[1;32mas\u001b[0m \u001b[0mpd\u001b[0m\u001b[1;33m\u001b[0m\u001b[0m\n\u001b[0;32m      5\u001b[0m \u001b[1;32mimport\u001b[0m \u001b[0mseaborn\u001b[0m \u001b[1;32mas\u001b[0m \u001b[0msns\u001b[0m\u001b[1;33m\u001b[0m\u001b[0m\n\u001b[1;32m----> 6\u001b[1;33m \u001b[1;32mimport\u001b[0m \u001b[0mpandas_profiling\u001b[0m\u001b[1;33m\u001b[0m\u001b[0m\n\u001b[0m\u001b[0;32m      7\u001b[0m \u001b[1;32mimport\u001b[0m \u001b[0mmatplotlib\u001b[0m\u001b[1;33m.\u001b[0m\u001b[0mpyplot\u001b[0m \u001b[1;32mas\u001b[0m \u001b[0mplt\u001b[0m\u001b[1;33m\u001b[0m\u001b[0m\n\u001b[0;32m      8\u001b[0m \u001b[0mget_ipython\u001b[0m\u001b[1;33m(\u001b[0m\u001b[1;33m)\u001b[0m\u001b[1;33m.\u001b[0m\u001b[0mmagic\u001b[0m\u001b[1;33m(\u001b[0m\u001b[1;34m'matplotlib inline'\u001b[0m\u001b[1;33m)\u001b[0m\u001b[1;33m\u001b[0m\u001b[0m\n",
      "\u001b[1;31mModuleNotFoundError\u001b[0m: No module named 'pandas_profiling'"
     ]
    }
   ],
   "source": [
    "#Import useful libs\n",
    "\n",
    "import numpy as np\n",
    "import pandas as pd\n",
    "import seaborn as sns\n",
    "import pandas_profiling\n",
    "import matplotlib.pyplot as plt\n",
    "%matplotlib inline"
   ]
  },
  {
   "cell_type": "code",
   "execution_count": 3,
   "metadata": {},
   "outputs": [],
   "source": [
    "#Read in train and test data\n",
    "train = pd.read_csv('train.csv')\n",
    "test = pd.read_csv('test.csv')"
   ]
  },
  {
   "cell_type": "code",
   "execution_count": 7,
   "metadata": {},
   "outputs": [
    {
     "data": {
      "text/html": [
       "<div>\n",
       "<style>\n",
       "    .dataframe thead tr:only-child th {\n",
       "        text-align: right;\n",
       "    }\n",
       "\n",
       "    .dataframe thead th {\n",
       "        text-align: left;\n",
       "    }\n",
       "\n",
       "    .dataframe tbody tr th {\n",
       "        vertical-align: top;\n",
       "    }\n",
       "</style>\n",
       "<table border=\"1\" class=\"dataframe\">\n",
       "  <thead>\n",
       "    <tr style=\"text-align: right;\">\n",
       "      <th></th>\n",
       "      <th>id</th>\n",
       "      <th>keyword</th>\n",
       "      <th>location</th>\n",
       "      <th>text</th>\n",
       "      <th>target</th>\n",
       "    </tr>\n",
       "  </thead>\n",
       "  <tbody>\n",
       "    <tr>\n",
       "      <th>0</th>\n",
       "      <td>1</td>\n",
       "      <td>NaN</td>\n",
       "      <td>NaN</td>\n",
       "      <td>Our Deeds are the Reason of this #earthquake M...</td>\n",
       "      <td>1</td>\n",
       "    </tr>\n",
       "    <tr>\n",
       "      <th>1</th>\n",
       "      <td>4</td>\n",
       "      <td>NaN</td>\n",
       "      <td>NaN</td>\n",
       "      <td>Forest fire near La Ronge Sask. Canada</td>\n",
       "      <td>1</td>\n",
       "    </tr>\n",
       "    <tr>\n",
       "      <th>2</th>\n",
       "      <td>5</td>\n",
       "      <td>NaN</td>\n",
       "      <td>NaN</td>\n",
       "      <td>All residents asked to 'shelter in place' are ...</td>\n",
       "      <td>1</td>\n",
       "    </tr>\n",
       "    <tr>\n",
       "      <th>3</th>\n",
       "      <td>6</td>\n",
       "      <td>NaN</td>\n",
       "      <td>NaN</td>\n",
       "      <td>13,000 people receive #wildfires evacuation or...</td>\n",
       "      <td>1</td>\n",
       "    </tr>\n",
       "    <tr>\n",
       "      <th>4</th>\n",
       "      <td>7</td>\n",
       "      <td>NaN</td>\n",
       "      <td>NaN</td>\n",
       "      <td>Just got sent this photo from Ruby #Alaska as ...</td>\n",
       "      <td>1</td>\n",
       "    </tr>\n",
       "  </tbody>\n",
       "</table>\n",
       "</div>"
      ],
      "text/plain": [
       "   id keyword location                                               text  \\\n",
       "0   1     NaN      NaN  Our Deeds are the Reason of this #earthquake M...   \n",
       "1   4     NaN      NaN             Forest fire near La Ronge Sask. Canada   \n",
       "2   5     NaN      NaN  All residents asked to 'shelter in place' are ...   \n",
       "3   6     NaN      NaN  13,000 people receive #wildfires evacuation or...   \n",
       "4   7     NaN      NaN  Just got sent this photo from Ruby #Alaska as ...   \n",
       "\n",
       "   target  \n",
       "0       1  \n",
       "1       1  \n",
       "2       1  \n",
       "3       1  \n",
       "4       1  "
      ]
     },
     "execution_count": 7,
     "metadata": {},
     "output_type": "execute_result"
    }
   ],
   "source": [
    "train.head()"
   ]
  },
  {
   "cell_type": "code",
   "execution_count": 28,
   "metadata": {},
   "outputs": [
    {
     "name": "stdout",
     "output_type": "stream",
     "text": [
      "General information of Training data \n",
      "\n",
      "<class 'pandas.core.frame.DataFrame'>\n",
      "RangeIndex: 7613 entries, 0 to 7612\n",
      "Data columns (total 5 columns):\n",
      "id          7613 non-null int64\n",
      "keyword     7552 non-null object\n",
      "location    5080 non-null object\n",
      "text        7613 non-null object\n",
      "target      7613 non-null int64\n",
      "dtypes: int64(2), object(3)\n",
      "memory usage: 297.5+ KB\n",
      "None\n",
      "\n",
      "\n",
      "General information of Test data \n",
      "\n",
      "<class 'pandas.core.frame.DataFrame'>\n",
      "RangeIndex: 3263 entries, 0 to 3262\n",
      "Data columns (total 4 columns):\n",
      "id          3263 non-null int64\n",
      "keyword     3237 non-null object\n",
      "location    2158 non-null object\n",
      "text        3263 non-null object\n",
      "dtypes: int64(1), object(3)\n",
      "memory usage: 102.0+ KB\n",
      "None\n"
     ]
    }
   ],
   "source": [
    "print('General information of Training data \\n')\n",
    "print(train.info())\n",
    "print('\\n')\n",
    "print('General information of Test data \\n')\n",
    "print(test.info())\n"
   ]
  },
  {
   "cell_type": "markdown",
   "metadata": {},
   "source": [
    "# Note:\n",
    "\n",
    "## 1. The \"id\" variable is not consecutive\n",
    "## 2. The \"location\" varaibles have a lot of missing values\n",
    "\n",
    "\n",
    "# Data description:\n",
    "\n",
    "## 1. \"id\": a unique identifier for each tweet\n",
    "\n",
    "## 2. \"keyword\": a particular keyword from the tweet (may be blank)\n",
    "\n",
    "## 3. \"location\": the location the tweet was sent from (may be blank)\n",
    "\n",
    "## 4. \"target\": in train.csv only, this denotes whether a tweet is about a real disaster (1) or not (0)"
   ]
  },
  {
   "cell_type": "markdown",
   "metadata": {},
   "source": [
    "# Step1: EDA"
   ]
  },
  {
   "cell_type": "code",
   "execution_count": 27,
   "metadata": {},
   "outputs": [
    {
     "name": "stdout",
     "output_type": "stream",
     "text": [
      "General information of Training data \n",
      "\n",
      "                 id      target\n",
      "count   7613.000000  7613.00000\n",
      "mean    5441.934848     0.42966\n",
      "std     3137.116090     0.49506\n",
      "min        1.000000     0.00000\n",
      "25%     2734.000000     0.00000\n",
      "50%     5408.000000     0.00000\n",
      "75%     8146.000000     1.00000\n",
      "max    10873.000000     1.00000\n",
      "\n",
      "\n",
      "General information of Test data \n",
      "\n",
      "                 id\n",
      "count   3263.000000\n",
      "mean    5427.152927\n",
      "std     3146.427221\n",
      "min        0.000000\n",
      "25%     2683.000000\n",
      "50%     5500.000000\n",
      "75%     8176.000000\n",
      "max    10875.000000\n"
     ]
    }
   ],
   "source": [
    "print('General information of Training data \\n')\n",
    "print(train.describe())\n",
    "print('\\n')\n",
    "\n",
    "print('General information of Test data \\n')\n",
    "print(test.describe())"
   ]
  },
  {
   "cell_type": "code",
   "execution_count": 12,
   "metadata": {},
   "outputs": [
    {
     "ename": "NameError",
     "evalue": "name 'pandas_profiling' is not defined",
     "output_type": "error",
     "traceback": [
      "\u001b[1;31m---------------------------------------------------------------------------\u001b[0m",
      "\u001b[1;31mNameError\u001b[0m                                 Traceback (most recent call last)",
      "\u001b[1;32m<ipython-input-12-b706380c86f9>\u001b[0m in \u001b[0;36m<module>\u001b[1;34m()\u001b[0m\n\u001b[1;32m----> 1\u001b[1;33m \u001b[0mpandas_profiling\u001b[0m\u001b[1;33m.\u001b[0m\u001b[0mProfileReport\u001b[0m\u001b[1;33m(\u001b[0m\u001b[0mtrain\u001b[0m\u001b[1;33m)\u001b[0m\u001b[1;33m\u001b[0m\u001b[0m\n\u001b[0m",
      "\u001b[1;31mNameError\u001b[0m: name 'pandas_profiling' is not defined"
     ]
    }
   ],
   "source": [
    "pandas_profiling.ProfileReport(train)"
   ]
  },
  {
   "cell_type": "markdown",
   "metadata": {},
   "source": [
    "## 1.1 The \"location\" variable has large number of missing values, however, I think it is an important feature to identify whether the tweets is real, I decided to look at the value_counts of the variable for both train and test data\n",
    "\n",
    "## Purpose:\n",
    "\n",
    "### 1. Check the spread of the location\n",
    "### 2. Check if there's any invalid data for the location\n",
    "### 3. Check whether the test data have the location that train data do not have\n"
   ]
  },
  {
   "cell_type": "code",
   "execution_count": 14,
   "metadata": {},
   "outputs": [
    {
     "data": {
      "text/plain": [
       "USA                               104\n",
       "New York                           71\n",
       "United States                      50\n",
       "London                             45\n",
       "Canada                             29\n",
       "Nigeria                            28\n",
       "UK                                 27\n",
       "Los Angeles, CA                    26\n",
       "India                              24\n",
       "Mumbai                             22\n",
       "Washington, DC                     21\n",
       "Kenya                              20\n",
       "Worldwide                          19\n",
       "Chicago, IL                        18\n",
       "Australia                          18\n",
       "California                         17\n",
       "California, USA                    15\n",
       "New York, NY                       15\n",
       "Everywhere                         15\n",
       "United Kingdom                     14\n",
       "Florida                            14\n",
       "San Francisco                      14\n",
       "Los Angeles                        13\n",
       "Washington, D.C.                   13\n",
       "Indonesia                          13\n",
       "NYC                                12\n",
       "Ireland                            12\n",
       "Toronto                            12\n",
       "San Francisco, CA                  11\n",
       "Chicago                            11\n",
       "                                 ... \n",
       "BIG D  HOUSTON/BOSTON/DENVER        1\n",
       "Le Moyne '16                        1\n",
       "Chapel Hill, NC                     1\n",
       "Selangor                            1\n",
       "Wakefield, West Yorkshire           1\n",
       "Henderson, Nevada                   1\n",
       "taking bath do not disturb          1\n",
       "R'lyeh, South Pacific               1\n",
       "Derry, 17                           1\n",
       "Austin | San Diego                  1\n",
       "The Globe                           1\n",
       "Zeerust, South Africa               1\n",
       "Sochi, KDA, RU                      1\n",
       "Concord, CA                         1\n",
       "Santo Domingo Alma Rosa             1\n",
       "Beautiful British Columbia          1\n",
       "???? ???????                        1\n",
       "Halifax, NS, Canada                 1\n",
       "Dayton, OH                          1\n",
       "home                                1\n",
       "[marvelÛ¢dragon ageÛ¢wicdiv]      1\n",
       "KLA,Uganda                          1\n",
       "Groningen, Netherlands, Europe      1\n",
       "Hawthorne, NE                       1\n",
       "Cedar Island, Clinton CT 06413      1\n",
       "St. Louis, Mo                       1\n",
       "lrhcthband;four - bournemouth       1\n",
       "Savannah, GA                        1\n",
       "Portsmouth, VA                      1\n",
       "Bellevue NE                         1\n",
       "Name: location, Length: 3341, dtype: int64"
      ]
     },
     "execution_count": 14,
     "metadata": {},
     "output_type": "execute_result"
    }
   ],
   "source": [
    "train.location.value_counts()"
   ]
  },
  {
   "cell_type": "code",
   "execution_count": 15,
   "metadata": {},
   "outputs": [
    {
     "data": {
      "text/plain": [
       "New York                         38\n",
       "USA                              37\n",
       "Worldwide                        16\n",
       "United States                    15\n",
       "Canada                           13\n",
       "London                           13\n",
       "Kenya                            12\n",
       "Nigeria                          12\n",
       "United Kingdom                   12\n",
       "Los Angeles                      11\n",
       "India                            11\n",
       "Washington, DC                   10\n",
       "San Francisco, CA                 9\n",
       "San Francisco                     9\n",
       "NYC                               9\n",
       "Philippines                       9\n",
       "California                        8\n",
       "Los Angeles, CA                   8\n",
       "Seattle, WA                       7\n",
       "Australia                         7\n",
       "Florida                           7\n",
       "Singapore                         7\n",
       "New York, NY                      7\n",
       "Chicago                           6\n",
       "Mumbai                            6\n",
       "Melbourne, Australia              6\n",
       "UK                                6\n",
       "California, USA                   6\n",
       "Paterson, New Jersey              5\n",
       "Calgary, Alberta                  5\n",
       "                                 ..\n",
       "Harvard Square, Cambridge, MA     1\n",
       "Italia                            1\n",
       "Pico Rivera, CA                   1\n",
       "The World                         1\n",
       "New york                          1\n",
       "Grand Rapids, Mich.               1\n",
       "Medford, NJ                       1\n",
       "ICO Arkansas                      1\n",
       "Queens, New York                  1\n",
       "hayling                           1\n",
       "The North                         1\n",
       "Rochester Minnesota               1\n",
       "Maryland, USA                     1\n",
       "Albequerque                       1\n",
       "University, FL                    1\n",
       "NY                                1\n",
       "Cape Coral Fl                     1\n",
       "Mo.City                           1\n",
       "Durham, NC                        1\n",
       "3-Jan                             1\n",
       "Twin Falls, Idaho, 83301          1\n",
       "Roermond                          1\n",
       "Lagos, Nigeria.                   1\n",
       "Eldora, IA                        1\n",
       "Utica , New York (Upstate)        1\n",
       "Wheeler,Wis.                      1\n",
       "Moreno City - Buenos Aires        1\n",
       "UK & Oversees                     1\n",
       "Deep in the heart of LibLand      1\n",
       "Mississauga                       1\n",
       "Name: location, Length: 1602, dtype: int64"
      ]
     },
     "execution_count": 15,
     "metadata": {},
     "output_type": "execute_result"
    }
   ],
   "source": [
    "test.location.value_counts()"
   ]
  },
  {
   "cell_type": "code",
   "execution_count": 31,
   "metadata": {},
   "outputs": [
    {
     "data": {
      "text/plain": [
       "False"
      ]
     },
     "execution_count": 31,
     "metadata": {},
     "output_type": "execute_result"
    }
   ],
   "source": [
    "#Compare locations in train and test\n",
    "loc_train = train.location.dropna(axis = 0).values\n",
    "loc_test = test.location.dropna(axis = 0).values\n",
    "\n",
    "x = set(loc_test).issubset(loc_train)\n",
    "x\n"
   ]
  },
  {
   "cell_type": "markdown",
   "metadata": {},
   "source": [
    "## ***Findings after rough check of the \"location\" variable:\n",
    "\n",
    "### 1. For both train and test data, the format of observations were not unified \n",
    "###  e.g., USA and United States are actually same country  ---> should be corrected\n",
    "\n",
    "### 2. For the location, there are belonging relationships; e.g., CA belongs to USA ----> should consider creating another column to indicate. In addition, considering to have consistent unit for location, for example, Country, State, County etc..\n",
    "\n",
    "### 3. There are invalid records; e.g., ??? in training data; 3-Jan in test data\n",
    "\n",
    "### 4. There are locations that in test data do not belong to test data, should figure them out\n",
    "\n",
    "### 5. How to fill missing values?\n"
   ]
  },
  {
   "cell_type": "markdown",
   "metadata": {},
   "source": [
    "## 1.2 About \"keyword\" variable"
   ]
  },
  {
   "cell_type": "markdown",
   "metadata": {},
   "source": [
    "### Some thoughts: \n",
    "\n",
    "### Since there are some missing values for the \"keyword\" variable, how to fill the missing values is critical； I think it might be better to take a look at the nonmissing values and find a rule of how the keywords were extracted from text"
   ]
  },
  {
   "cell_type": "code",
   "execution_count": 34,
   "metadata": {},
   "outputs": [
    {
     "data": {
      "text/plain": [
       "fatalities     45\n",
       "deluge         42\n",
       "armageddon     42\n",
       "sinking        41\n",
       "body%20bags    41\n",
       "harm           41\n",
       "damage         41\n",
       "evacuate       40\n",
       "twister        40\n",
       "collided       40\n",
       "outbreak       40\n",
       "fear           40\n",
       "siren          40\n",
       "windstorm      40\n",
       "whirlwind      39\n",
       "derailment     39\n",
       "wreckage       39\n",
       "famine         39\n",
       "weapon         39\n",
       "weapons        39\n",
       "Name: keyword, dtype: int64"
      ]
     },
     "execution_count": 34,
     "metadata": {},
     "output_type": "execute_result"
    }
   ],
   "source": [
    "#Check the most frequent keywords\n",
    "key_freq = train.keyword.value_counts()[:20]"
   ]
  },
  {
   "cell_type": "code",
   "execution_count": null,
   "metadata": {
    "collapsed": true
   },
   "outputs": [],
   "source": []
  },
  {
   "cell_type": "code",
   "execution_count": null,
   "metadata": {
    "collapsed": true
   },
   "outputs": [],
   "source": []
  },
  {
   "cell_type": "code",
   "execution_count": null,
   "metadata": {
    "collapsed": true
   },
   "outputs": [],
   "source": []
  },
  {
   "cell_type": "code",
   "execution_count": null,
   "metadata": {
    "collapsed": true
   },
   "outputs": [],
   "source": []
  },
  {
   "cell_type": "code",
   "execution_count": null,
   "metadata": {
    "collapsed": true
   },
   "outputs": [],
   "source": []
  }
 ],
 "metadata": {
  "kernelspec": {
   "display_name": "Python 3",
   "language": "python",
   "name": "python3"
  },
  "language_info": {
   "codemirror_mode": {
    "name": "ipython",
    "version": 3
   },
   "file_extension": ".py",
   "mimetype": "text/x-python",
   "name": "python",
   "nbconvert_exporter": "python",
   "pygments_lexer": "ipython3",
   "version": "3.6.3"
  }
 },
 "nbformat": 4,
 "nbformat_minor": 2
}
